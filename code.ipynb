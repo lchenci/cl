{
 "cells": [
  {
   "cell_type": "code",
   "execution_count": 1,
   "metadata": {},
   "outputs": [
    {
     "name": "stdout",
     "output_type": "stream",
     "text": [
      "(326, 13)\n"
     ]
    },
    {
     "name": "stderr",
     "output_type": "stream",
     "text": [
      "D:\\Anaconda\\envs\\tensorflow\\lib\\site-packages\\pandas\\core\\computation\\expressions.py:183: UserWarning: evaluating in Python space because the '-' operator is not supported by numexpr for the bool dtype, use '^' instead\n",
      "  unsupported[op_str]))\n"
     ]
    }
   ],
   "source": [
    "import numpy as np\n",
    "import pandas as pd\n",
    "from sklearn import preprocessing\n",
    "import math\n",
    "data = pd.read_csv('all/train.csv')\n",
    "testdata = pd.read_csv('all/test.csv')\n",
    "attributes = [\"penalty\"]\n",
    "#print(data)\n",
    "for i in attributes:\n",
    "    a = preprocessing.LabelEncoder()\n",
    "    a.fit(list(data[i].values.astype('str')))\n",
    "    data[i] = a.transform(list(data[i].values.astype('str')))   \n",
    "#print(data)\n",
    "#create a python list of feature names\n",
    "data=data[(True-data['n_jobs'].isin([-1]))]   #drop the raw which n_jobs are -1\n",
    "feature_cols = [ 'penalty', 'l1_ratio', 'alpha', 'random_state', 'n_classes', 'n_clusters_per_class', 'flip_y', 'scale', 'new', 'new2', 'new3', 'new4', 'new5']\n",
    "# use the list to select a subset of the original DataFrame\n",
    "data['new']=data['max_iter']*data['n_features']*data['n_samples']/data['n_jobs']\n",
    "data['new2'] =data['n_features']* data['max_iter']\n",
    "data['new3'] = data['max_iter']/data['n_jobs']\n",
    "data['new4'] = data['n_samples']/data['n_jobs']\n",
    "data['new5'] = data['n_features']/data['n_jobs']\n",
    "data['alpha']=data['alpha'].replace(0.001,1)\n",
    "data['alpha']=data['alpha'].replace(0.01,2)\n",
    "data['alpha']=data['alpha'].replace(0.0001,0)\n",
    "X = data[feature_cols]\n",
    "X\n",
    "# print the first 5 rows\n",
    "#print(X)\n",
    "# check the type and shape of X\n",
    "#print(type(X))\n",
    "print(X.shape)"
   ]
  },
  {
   "cell_type": "code",
   "execution_count": 2,
   "metadata": {},
   "outputs": [
    {
     "name": "stdout",
     "output_type": "stream",
     "text": [
      "['penalty', 'l1_ratio', 'alpha', 'random_state', 'n_classes', 'n_clusters_per_class', 'flip_y', 'scale', 'new', 'new2', 'new3', 'new4', 'new5']\n",
      "(100, 13)\n"
     ]
    }
   ],
   "source": [
    "for i in attributes:\n",
    "    a = preprocessing.LabelEncoder()\n",
    "    a.fit(list(testdata[i].values.astype('str')))\n",
    "    testdata[i] = a.transform(list(testdata[i].values.astype('str')))   \n",
    "    \n",
    "testdata['n_jobs']=testdata['n_jobs'].replace(-1,16)\n",
    "testdata['new']=testdata['max_iter']*testdata['n_features']*testdata['n_samples']/testdata['n_jobs']\n",
    "testdata['new2'] =testdata['n_features']* testdata['max_iter']\n",
    "testdata['new3'] = testdata['max_iter']/testdata['n_jobs']\n",
    "testdata['new4'] = testdata['n_samples']/testdata['n_jobs']\n",
    "testdata['new5'] = testdata['n_features']/testdata['n_jobs']\n",
    "testdata['alpha']=testdata['alpha'].replace(0.001,1)\n",
    "testdata['alpha']=testdata['alpha'].replace(0.01,2)\n",
    "testdata['alpha']=testdata['alpha'].replace(0.0001,0)\n",
    "\n",
    "print(feature_cols)\n",
    "testX = testdata[feature_cols]\n",
    "# print the first 5 rows\n",
    "#print(testdataX)\n",
    "# check the type and shape of X\n",
    "#print(type(testdataX))\n",
    "print(testX.shape)"
   ]
  },
  {
   "cell_type": "code",
   "execution_count": 3,
   "metadata": {},
   "outputs": [
    {
     "name": "stdout",
     "output_type": "stream",
     "text": [
      "(326,)\n"
     ]
    }
   ],
   "source": [
    "import math\n",
    "# select a Series from the DataFrame\n",
    "y =data['time'].map(lambda x: math.log(x))\n",
    "# print the first 5 values\n",
    "print(y.shape)"
   ]
  },
  {
   "cell_type": "code",
   "execution_count": 4,
   "metadata": {},
   "outputs": [
    {
     "name": "stdout",
     "output_type": "stream",
     "text": [
      "(326, 13)\n",
      "(326,)\n",
      "(100, 13)\n"
     ]
    }
   ],
   "source": [
    "import sklearn\n",
    "X_train=X\n",
    "y_train=y\n",
    "X_test=testX\n",
    "print(X_train.shape)\n",
    "print(y_train.shape)\n",
    "print(X_test.shape)"
   ]
  },
  {
   "cell_type": "code",
   "execution_count": 5,
   "metadata": {},
   "outputs": [
    {
     "name": "stderr",
     "output_type": "stream",
     "text": [
      "D:\\Anaconda\\envs\\tensorflow\\lib\\site-packages\\sklearn\\cross_validation.py:41: DeprecationWarning: This module was deprecated in version 0.18 in favor of the model_selection module into which all the refactored classes and functions are moved. Also note that the interface of the new CV iterators are different from that of this module. This module will be removed in 0.20.\n",
      "  \"This module will be removed in 0.20.\", DeprecationWarning)\n"
     ]
    },
    {
     "name": "stdout",
     "output_type": "stream",
     "text": [
      "[1.374081327365478, 10.124537270282989, 0.2991311483596629, 0.6370612917898785, 1.970100021644655, 7.418662288880962, 2.78074375465226, 0.38163279076516987, 11.555664402358707, 0.4498171131239051, 6.33542157625818, 8.936883953694215, 0.5064448060818723, 29.031300807380617, 0.2406708924850186, 0.7947566743342582, 0.556518269910223, 5.2003614471961725, 2.7912003437544683, 0.703801156846396, 0.4176354753180718, 0.18766467278697474, 0.4025743365388185, 0.30565188467015053, 1.3949469098551575, 0.9781202307843807, 1.3330830356916161, 1.8408421812300488, 1.7722700061628873, 1.802273712302756, 15.420627958237743, 0.997645769484719, 0.33469408916084775, 8.125749232249035, 7.176390817944996, 0.9627679838943533, 2.4445931257650657, 1.4128938876546033, 0.9307069857066216, 2.0156643321153958, 3.3874931051820316, 10.52834998331514, 0.5617258622000366, 3.8087189904431593, 1.0525854535363885, 3.243606828466784, 2.0713914551523356, 0.38338509704745777, 8.99717697020515, 0.8263325940432086, 0.20409022455206982, 18.635162604226803, 0.11790345742504248, 8.970043912953583, 8.188351792093576, 0.14316714091695987, 0.6959906802319692, 0.8836823758996092, 0.32607328400894214, 0.8914481180899748, 1.4148825924067818, 6.373990850078039, 0.25025213454401823, 5.287818978648443, 3.398706339236141, 7.308849781173925, 1.222521373947705, 0.3313559697561811, 9.39245351651745, 0.9937867039629062, 0.18950256330228335, 0.7852299518983203, 8.490990507012249, 0.2862811752577289, 5.271374630100578, 3.8072354940787663, 1.2149174124714934, 3.875865033179182, 4.1032600334531715, 1.225247739905747, 5.705623892961265, 4.0542853473961, 5.4137270982324335, 0.8184979703939744, 1.1424453988926888, 3.8245731891857404, 4.965234975626638, 0.28433454335182773, 5.531881629122997, 1.0171968761149919, 3.089124157697037, 0.9556473762857207, 1.5699259713225482, 11.480445742660294, 7.491329323816078, 4.712322621274259, 45.17821775977417, 0.1641506238208374, 0.6897354190744773, 0.18661237651227364]\n"
     ]
    }
   ],
   "source": [
    "import xgboost as xgb\n",
    "from xgboost import XGBRegressor\n",
    "bst=XGBRegressor(max_depth=3,min_child_weight=4,learning_rate=0.2,subsample=0.5,colsample_bytree=0.7,gamma=0,n_estimators=400)\n",
    "bst.fit(X_train, y_train)\n",
    "y_pred=bst.predict(X_test)\n",
    "y_pred = [math.exp(c) for c in y_pred]\n",
    "print(y_pred)"
   ]
  },
  {
   "cell_type": "code",
   "execution_count": 6,
   "metadata": {},
   "outputs": [
    {
     "data": {
      "text/plain": [
       "0.99997337964095567"
      ]
     },
     "execution_count": 6,
     "metadata": {},
     "output_type": "execute_result"
    }
   ],
   "source": [
    "from sklearn import metrics\n",
    "preds_train = bst.predict(X_train)\n",
    "metrics.r2_score(y_train.values,preds_train)"
   ]
  },
  {
   "cell_type": "code",
   "execution_count": 7,
   "metadata": {
    "collapsed": true
   },
   "outputs": [],
   "source": [
    "y_pred=pd.DataFrame(y_pred)\n",
    "y_pred.columns=['time']\n",
    "y_pred.to_csv('test.csv',index_label='Id')"
   ]
  }
 ],
 "metadata": {
  "kernelspec": {
   "display_name": "Python 3",
   "language": "python",
   "name": "python3"
  },
  "language_info": {
   "codemirror_mode": {
    "name": "ipython",
    "version": 3
   },
   "file_extension": ".py",
   "mimetype": "text/x-python",
   "name": "python",
   "nbconvert_exporter": "python",
   "pygments_lexer": "ipython3",
   "version": "3.5.4"
  },
  "varInspector": {
   "cols": {
    "lenName": 16,
    "lenType": 16,
    "lenVar": 40
   },
   "kernels_config": {
    "python": {
     "delete_cmd_postfix": "",
     "delete_cmd_prefix": "del ",
     "library": "var_list.py",
     "varRefreshCmd": "print(var_dic_list())"
    },
    "r": {
     "delete_cmd_postfix": ") ",
     "delete_cmd_prefix": "rm(",
     "library": "var_list.r",
     "varRefreshCmd": "cat(var_dic_list()) "
    }
   },
   "types_to_exclude": [
    "module",
    "function",
    "builtin_function_or_method",
    "instance",
    "_Feature"
   ],
   "window_display": false
  }
 },
 "nbformat": 4,
 "nbformat_minor": 2
}
